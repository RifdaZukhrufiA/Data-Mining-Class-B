{
 "cells": [
  {
   "cell_type": "markdown",
   "metadata": {},
   "source": [
    "## Data Integration"
   ]
  },
  {
   "cell_type": "code",
   "execution_count": 2,
   "metadata": {},
   "outputs": [],
   "source": [
    "import pandas as pd\n",
    "import numpy as np"
   ]
  },
  {
   "cell_type": "code",
   "execution_count": 3,
   "metadata": {},
   "outputs": [
    {
     "data": {
      "text/html": [
       "<div>\n",
       "<style scoped>\n",
       "    .dataframe tbody tr th:only-of-type {\n",
       "        vertical-align: middle;\n",
       "    }\n",
       "\n",
       "    .dataframe tbody tr th {\n",
       "        vertical-align: top;\n",
       "    }\n",
       "\n",
       "    .dataframe thead th {\n",
       "        text-align: right;\n",
       "    }\n",
       "</style>\n",
       "<table border=\"1\" class=\"dataframe\">\n",
       "  <thead>\n",
       "    <tr style=\"text-align: right;\">\n",
       "      <th></th>\n",
       "      <th>Nama</th>\n",
       "      <th>JK</th>\n",
       "      <th>Asal</th>\n",
       "      <th>Toefl</th>\n",
       "      <th>Ket.</th>\n",
       "    </tr>\n",
       "  </thead>\n",
       "  <tbody>\n",
       "    <tr>\n",
       "      <th>0</th>\n",
       "      <td>Adi</td>\n",
       "      <td>L</td>\n",
       "      <td>SBY</td>\n",
       "      <td>450</td>\n",
       "      <td>Tidak Lulus</td>\n",
       "    </tr>\n",
       "    <tr>\n",
       "      <th>1</th>\n",
       "      <td>Budi</td>\n",
       "      <td>L</td>\n",
       "      <td>JKT</td>\n",
       "      <td>455</td>\n",
       "      <td>Tidak Lulus</td>\n",
       "    </tr>\n",
       "    <tr>\n",
       "      <th>2</th>\n",
       "      <td>Cinta</td>\n",
       "      <td>P</td>\n",
       "      <td>BWI</td>\n",
       "      <td>480</td>\n",
       "      <td>Lulus</td>\n",
       "    </tr>\n",
       "    <tr>\n",
       "      <th>3</th>\n",
       "      <td>Dani</td>\n",
       "      <td>L</td>\n",
       "      <td>BDG</td>\n",
       "      <td>500</td>\n",
       "      <td>Lulus</td>\n",
       "    </tr>\n",
       "  </tbody>\n",
       "</table>\n",
       "</div>"
      ],
      "text/plain": [
       "    Nama JK Asal Toefl         Ket.\n",
       "0    Adi  L  SBY   450  Tidak Lulus\n",
       "1   Budi  L  JKT   455  Tidak Lulus\n",
       "2  Cinta  P  BWI   480        Lulus\n",
       "3   Dani  L  BDG   500        Lulus"
      ]
     },
     "execution_count": 3,
     "metadata": {},
     "output_type": "execute_result"
    }
   ],
   "source": [
    "#menggabungkan data\n",
    "kota = pd.DataFrame({'Nama': ['Adi','Budi','Cinta','Dani'],\n",
    "                     'JK': ['L', 'L', 'P', 'L'],\n",
    "                     'Asal' : ['SBY', 'JKT', 'BWI', 'BDG']})\n",
    "toefl = pd.DataFrame({'Nama': ['Adi','Budi','Cinta','Dani'],\n",
    "                      'Toefl': ['450', '455', '480', '500'],\n",
    "                      'Ket.' : ['Tidak Lulus', 'Tidak Lulus', 'Lulus', 'Lulus']})\n",
    "result1 = pd.merge(kota, toefl, on='Nama')\n",
    "result1"
   ]
  },
  {
   "cell_type": "code",
   "execution_count": 9,
   "metadata": {},
   "outputs": [
    {
     "data": {
      "text/html": [
       "<div>\n",
       "<style scoped>\n",
       "    .dataframe tbody tr th:only-of-type {\n",
       "        vertical-align: middle;\n",
       "    }\n",
       "\n",
       "    .dataframe tbody tr th {\n",
       "        vertical-align: top;\n",
       "    }\n",
       "\n",
       "    .dataframe thead th {\n",
       "        text-align: right;\n",
       "    }\n",
       "</style>\n",
       "<table border=\"1\" class=\"dataframe\">\n",
       "  <thead>\n",
       "    <tr style=\"text-align: right;\">\n",
       "      <th></th>\n",
       "      <th>Nama</th>\n",
       "      <th>Asal</th>\n",
       "      <th>JK</th>\n",
       "      <th>Toefl</th>\n",
       "      <th>Ket.</th>\n",
       "    </tr>\n",
       "  </thead>\n",
       "  <tbody>\n",
       "    <tr>\n",
       "      <th>0</th>\n",
       "      <td>Adi</td>\n",
       "      <td>SBY</td>\n",
       "      <td>L</td>\n",
       "      <td>450</td>\n",
       "      <td>Tidak Lulus</td>\n",
       "    </tr>\n",
       "    <tr>\n",
       "      <th>1</th>\n",
       "      <td>Budi</td>\n",
       "      <td>JKT</td>\n",
       "      <td>L</td>\n",
       "      <td>455</td>\n",
       "      <td>Tidak Lulus</td>\n",
       "    </tr>\n",
       "    <tr>\n",
       "      <th>2</th>\n",
       "      <td>Cinta</td>\n",
       "      <td>BWI</td>\n",
       "      <td>P</td>\n",
       "      <td>480</td>\n",
       "      <td>Lulus</td>\n",
       "    </tr>\n",
       "    <tr>\n",
       "      <th>3</th>\n",
       "      <td>Dani</td>\n",
       "      <td>BDG</td>\n",
       "      <td>L</td>\n",
       "      <td>500</td>\n",
       "      <td>Lulus</td>\n",
       "    </tr>\n",
       "  </tbody>\n",
       "</table>\n",
       "</div>"
      ],
      "text/plain": [
       "    Nama Asal JK Toefl         Ket.\n",
       "0    Adi  SBY  L   450  Tidak Lulus\n",
       "1   Budi  JKT  L   455  Tidak Lulus\n",
       "2  Cinta  BWI  P   480        Lulus\n",
       "3   Dani  BDG  L   500        Lulus"
      ]
     },
     "execution_count": 9,
     "metadata": {},
     "output_type": "execute_result"
    }
   ],
   "source": [
    "#mengganti urutan kolom\n",
    "result1 = result1[['Nama', 'Asal', 'JK', 'Toefl', 'Ket.']]\n",
    "result1"
   ]
  },
  {
   "cell_type": "code",
   "execution_count": null,
   "metadata": {},
   "outputs": [],
   "source": []
  }
 ],
 "metadata": {
  "kernelspec": {
   "display_name": "Python 3",
   "language": "python",
   "name": "python3"
  },
  "language_info": {
   "codemirror_mode": {
    "name": "ipython",
    "version": 3
   },
   "file_extension": ".py",
   "mimetype": "text/x-python",
   "name": "python",
   "nbconvert_exporter": "python",
   "pygments_lexer": "ipython3",
   "version": "3.7.0"
  }
 },
 "nbformat": 4,
 "nbformat_minor": 2
}
